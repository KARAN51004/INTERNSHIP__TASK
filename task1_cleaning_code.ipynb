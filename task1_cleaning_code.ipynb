{
  "nbformat": 4,
  "nbformat_minor": 0,
  "metadata": {
    "colab": {
      "provenance": []
    },
    "kernelspec": {
      "name": "python3",
      "display_name": "Python 3"
    },
    "language_info": {
      "name": "python"
    }
  },
  "cells": [
    {
      "cell_type": "markdown",
      "source": [
        "Import libraries"
      ],
      "metadata": {
        "id": "M7h_TnC5MAge"
      }
    },
    {
      "cell_type": "code",
      "execution_count": 26,
      "metadata": {
        "id": "ZySMZU9hBShK"
      },
      "outputs": [],
      "source": [
        "import pandas as pd\n",
        "import numpy as np\n",
        "import seaborn as sns\n",
        "import matplotlib.pyplot as plt"
      ]
    },
    {
      "cell_type": "markdown",
      "source": [
        "Load dataset"
      ],
      "metadata": {
        "id": "EW5ggPrlK042"
      }
    },
    {
      "cell_type": "code",
      "source": [
        "df = pd.read_csv(\"marketing_campaign.csv\", sep=\"\\t\")"
      ],
      "metadata": {
        "id": "mBBIQALaKnJ4"
      },
      "execution_count": 27,
      "outputs": []
    },
    {
      "cell_type": "markdown",
      "source": [
        "Column Renaming"
      ],
      "metadata": {
        "id": "iuOdioloK4YC"
      }
    },
    {
      "cell_type": "code",
      "source": [
        "df.columns = [col.strip().lower().replace(\" \", \"_\") for col in df.columns]"
      ],
      "metadata": {
        "id": "o_FRNjuoKnHL"
      },
      "execution_count": 28,
      "outputs": []
    },
    {
      "cell_type": "markdown",
      "source": [
        "Handle Missing Values"
      ],
      "metadata": {
        "id": "dC8CFhB4K9qT"
      }
    },
    {
      "cell_type": "code",
      "source": [
        "df['income'] = df.groupby('education')['income'].transform(lambda x: x.fillna(x.median()))"
      ],
      "metadata": {
        "id": "e7EJJ-gpKnFM"
      },
      "execution_count": 29,
      "outputs": []
    },
    {
      "cell_type": "markdown",
      "source": [
        "Remove Duplicates"
      ],
      "metadata": {
        "id": "y954itFuLFYk"
      }
    },
    {
      "cell_type": "code",
      "source": [
        "df = df.drop_duplicates()"
      ],
      "metadata": {
        "id": "GLf3RgwxKnDL"
      },
      "execution_count": 30,
      "outputs": []
    },
    {
      "cell_type": "markdown",
      "source": [
        "Standardize Categorical Columns"
      ],
      "metadata": {
        "id": "Tnb11PjvLMDZ"
      }
    },
    {
      "cell_type": "code",
      "source": [
        "df['education'] = df['education'].str.strip().str.title()\n",
        "\n",
        "df['marital_status'] = df['marital_status'].replace({\n",
        "    'Alone': 'Single',\n",
        "    'Absurd': 'Single',\n",
        "    'YOLO': 'Single',\n",
        "    'Widow': 'Widowed',\n",
        "    'Together': 'Married'\n",
        "}).str.strip().str.title()"
      ],
      "metadata": {
        "id": "e98r_G_eKnBH"
      },
      "execution_count": 31,
      "outputs": []
    },
    {
      "cell_type": "markdown",
      "source": [
        "Convert Date & Add Customer Tenure"
      ],
      "metadata": {
        "id": "7M3ZUOyGLXSp"
      }
    },
    {
      "cell_type": "code",
      "source": [
        "df['dt_customer'] = pd.to_datetime(df['dt_customer'], format=\"%d-%m-%Y\")\n",
        "df['customer_tenure_days'] = (pd.to_datetime(\"today\") - df['dt_customer']).dt.days"
      ],
      "metadata": {
        "id": "qzp3Cc5bKm_C"
      },
      "execution_count": 32,
      "outputs": []
    },
    {
      "cell_type": "code",
      "source": [
        "df['total_spent'] = df[['mntwines', 'mntfruits', 'mntmeatproducts',\n",
        "                        'mntfishproducts', 'mntsweetproducts', 'mntgoldprods']].sum(axis=1)\n",
        "\n",
        "df['avg_spend_per_child'] = df['total_spent'] / (df['kidhome'] + df['teenhome'] + 1)\n",
        "\n",
        "df['total_cmp_offers'] = df[['acceptedcmp1', 'acceptedcmp2', 'acceptedcmp3',\n",
        "                             'acceptedcmp4', 'acceptedcmp5']].sum(axis=1)\n",
        "\n",
        "df['campaign_success_rate'] = df['total_cmp_offers'] / 5"
      ],
      "metadata": {
        "id": "ZDC21bQdKm8-"
      },
      "execution_count": 33,
      "outputs": []
    },
    {
      "cell_type": "code",
      "source": [
        "Q1 = df['income'].quantile(0.25)\n",
        "Q3 = df['income'].quantile(0.75)\n",
        "IQR = Q3 - Q1\n",
        "lower_bound = Q1 - 1.5 * IQR\n",
        "upper_bound = Q3 + 1.5 * IQR\n",
        "\n",
        "df['income'] = np.where(df['income'] > upper_bound, upper_bound,\n",
        "                        np.where(df['income'] < lower_bound, lower_bound, df['income']))"
      ],
      "metadata": {
        "id": "XOlyjTTKKm69"
      },
      "execution_count": 34,
      "outputs": []
    },
    {
      "cell_type": "code",
      "source": [
        "plt.figure(figsize=(8, 4))\n",
        "sns.boxplot(x=df['income'])\n",
        "plt.title(\"Boxplot: Income after Outlier Treatment\")\n",
        "plt.savefig(\"income_boxplot.png\")\n",
        "plt.close()"
      ],
      "metadata": {
        "id": "MbEWtTmjKm5D"
      },
      "execution_count": 35,
      "outputs": []
    },
    {
      "cell_type": "code",
      "source": [
        "plt.figure(figsize=(10, 6))\n",
        "sns.heatmap(df.isnull(), cbar=False, cmap='viridis')\n",
        "plt.title(\"Missing Values Heatmap\")\n",
        "plt.savefig(\"missing_values_heatmap.png\")\n",
        "plt.close()"
      ],
      "metadata": {
        "id": "01Sow9GuKm3E"
      },
      "execution_count": 36,
      "outputs": []
    },
    {
      "cell_type": "code",
      "source": [
        "df.to_csv(\"cleaned_customer_data.csv\", index=False)"
      ],
      "metadata": {
        "id": "xp5cQhu7Km0x"
      },
      "execution_count": 37,
      "outputs": []
    }
  ]
}